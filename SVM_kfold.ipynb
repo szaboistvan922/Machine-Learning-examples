{
 "cells": [
  {
   "cell_type": "markdown",
   "metadata": {},
   "source": [
    "# SVM k-fold cross validation\n"
   ]
  },
  {
   "cell_type": "code",
   "execution_count": 1,
   "metadata": {},
   "outputs": [],
   "source": [
    "# Importing the libraries\n",
    "import pandas as pd\n",
    "\n",
    "# Importing the dataset\n",
    "dataset = pd.read_csv('sample_gender_data.csv') \n",
    "X = dataset.iloc[:, [2, 3]].values\n",
    "y = dataset.iloc[:, 4].values\n"
   ]
  },
  {
   "cell_type": "code",
   "execution_count": 2,
   "metadata": {},
   "outputs": [],
   "source": [
    "# Handling Missing Values\n",
    "\n",
    "from sklearn.preprocessing import Imputer #class\n",
    "imputer = Imputer(missing_values = 'NaN', strategy = 'mean', axis = 0) # an instance of the class with these properties\n",
    "imputer = imputer.fit(X[:, 0:2])         # we have to choose the columns with missing values\n",
    "X[:, 0:2] = imputer.transform(X[:, 0:2])           # replace the X values for the columns averages"
   ]
  },
  {
   "cell_type": "code",
   "execution_count": 3,
   "metadata": {},
   "outputs": [],
   "source": [
    "# Feature Scaling\n",
    "# =============================================================================\n",
    "# from sklearn.preprocessing import StandardScaler # x_stand = (x-mean(x))/std(x)\n",
    "# sc = StandardScaler()\n",
    "# X_train = sc.fit_transform(X)\n",
    "# =============================================================================\n",
    "\n",
    "from sklearn.preprocessing import MinMaxScaler # Normalization x_norm = (x- min(x))/(max(x)-min(x))\n",
    "sc = MinMaxScaler(feature_range=(0, 1))\n",
    "X_train = sc.fit_transform(X)"
   ]
  },
  {
   "cell_type": "markdown",
   "metadata": {},
   "source": [
    "### End of data processing part."
   ]
  },
  {
   "cell_type": "code",
   "execution_count": 4,
   "metadata": {},
   "outputs": [
    {
     "name": "stdout",
     "output_type": "stream",
     "text": [
      "Accuracy: 0.7149999999999999, Std: 0.11629703349613006\n"
     ]
    }
   ],
   "source": [
    "from sklearn import model_selection\n",
    "from sklearn.svm import SVC # this is a class\n",
    "\n",
    "classifier = SVC(C=10, kernel='rbf', gamma= 'auto')\n",
    "kfold = model_selection.KFold(n_splits= 10)\n",
    "results = model_selection.cross_val_score(classifier, X_train, y, cv=kfold)\n",
    "\n",
    "print('Accuracy: {}, Std: {}'.format(results.mean(), results.std()))"
   ]
  },
  {
   "cell_type": "markdown",
   "metadata": {},
   "source": [
    "### Generally k-fold cross validation is the standard for evaluating the performance of a machine learning algorithms. k is usually set to 3, 5, or 10. When dataset is very low leave-one-out cross validation can be used. "
   ]
  },
  {
   "cell_type": "code",
   "execution_count": null,
   "metadata": {},
   "outputs": [],
   "source": []
  }
 ],
 "metadata": {
  "kernelspec": {
   "display_name": "Python 3",
   "language": "python",
   "name": "python3"
  },
  "language_info": {
   "codemirror_mode": {
    "name": "ipython",
    "version": 3
   },
   "file_extension": ".py",
   "mimetype": "text/x-python",
   "name": "python",
   "nbconvert_exporter": "python",
   "pygments_lexer": "ipython3",
   "version": "3.6.3"
  }
 },
 "nbformat": 4,
 "nbformat_minor": 2
}
